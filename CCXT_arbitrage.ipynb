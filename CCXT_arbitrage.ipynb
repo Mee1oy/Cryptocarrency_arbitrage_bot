{
 "cells": [
  {
   "cell_type": "code",
   "execution_count": 1,
   "id": "6fa03714",
   "metadata": {},
   "outputs": [],
   "source": [
    "import ccxt.async_support as ccxt\n",
    "import time\n",
    "import pandas as pd\n",
    "import numpy as np\n",
    "import warnings\n",
    "from IPython.display import clear_output\n",
    "from matplotlib import pyplot as plt\n",
    "import json"
   ]
  },
  {
   "cell_type": "code",
   "execution_count": 2,
   "id": "f4161016",
   "metadata": {},
   "outputs": [],
   "source": [
    "def calc_vol(part):\n",
    "    if part.coin.values[0].split('/')[1]=='USDT':\n",
    "        vol = np.min(part[['bid_vol','ask_vol']].values)\n",
    "    elif part.coin.values[0].split('/')[1]=='BTC':\n",
    "        vol = np.min(part[['bid_vol','ask_vol']].values) *trading_df.loc[trading_df.coin=='BTC/USDT','ask'].values[0]\n",
    "    elif part.coin.values[0].split('/')[1]=='ETH':\n",
    "        vol = np.min(part[['bid_vol','ask_vol']].values) *trading_df.loc[trading_df.coin=='ETH/USDT','ask'].values[0]\n",
    "    return vol\n",
    "\n",
    "def calc_price(orderbook):\n",
    "    price=np.array([])\n",
    "    vol=np.array([])\n",
    "    index=0\n",
    "    while np.sum(vol*price)<100 and index < len(orderbook)-1:\n",
    "        price = np.append(price, orderbook[index][0])\n",
    "        vol = np.append(vol, orderbook[index][1])\n",
    "        index+=1\n",
    "    value = np.sum(price*vol)/np.sum(vol)\n",
    "    return value\n",
    "def calc_spread(orderbook):\n",
    "    spread = (orderbook['asks'][0][0]/orderbook['bids'][0][0] - 1)*100\n",
    "    return spread\n",
    "\n",
    "binance = ccxt.binance()\n",
    "ftx = ccxt.ftx()\n",
    "gateio = ccxt.gateio()\n",
    "kraken = ccxt.kraken()\n",
    "gemini = ccxt.gemini()\n",
    "poloniex = ccxt.poloniex()   "
   ]
  },
  {
   "cell_type": "code",
   "execution_count": 3,
   "id": "d2d0c861",
   "metadata": {},
   "outputs": [],
   "source": [
    "\n",
    "#[binance, ftx, gateio, kraken, gemini, poloniex]\n",
    "coins={}\n",
    "for market in [binance, ftx]:\n",
    "    markets = await market.load_markets()\n",
    "    for coin in markets.keys():\n",
    "        if coin not in coins:\n",
    "            coins[coin]=[market]\n",
    "        else:\n",
    "            coins[coin].append(market)\n",
    "good_coins = []\n",
    "for coin in coins.keys():\n",
    "    if len(coins[coin])>=2:\n",
    "        good_coins.append(coin)\n",
    "        \n",
    "trading_df = pd.DataFrame([])\n",
    "trading_df['coin']= good_coins\n",
    "trading_df[['bid','ask']] = [0, np.inf]\n",
    "trading_df[['bid_vol','ask_vol','coef','bid_ex','ask_ex','spread']] = 0\n",
    "\n",
    "to_drop=[]\n",
    "for coin in trading_df.coin.values:\n",
    "    if coin.split('/')[1] != 'USDT' or 'BULL' in coin.split('/')[0] or 'BEAR' in coin.split('/')[0] \\\n",
    "    or coin=='SUN/USDT':\n",
    "        to_drop.append(trading_df.loc[trading_df.coin==coin].index[0])\n",
    "if 'ETC/USDT' in trading_df.coin.values:\n",
    "    to_drop.append(trading_df.loc[trading_df.coin=='ETC/USDT'].index[0])\n",
    "if 'GTC/USDT' in trading_df.coin.values:\n",
    "    to_drop.append(trading_df.loc[trading_df.coin=='GTC/USDT'].index[0])\n",
    "trading_df.drop(to_drop, inplace=True)\n",
    "\n",
    "total_vol=pd.DataFrame({'coin':trading_df.coin.values})\n",
    "for market in [binance, ftx, gateio, gemini, kraken, poloniex]:\n",
    "    total_vol[market.id]=0\n",
    "    \n",
    "fin_result={}\n",
    "for coin in trading_df.coin.values:\n",
    "    fin_result[coin]=0\n",
    "\n",
    "positions =pd.DataFrame({'coin':good_coins})\n",
    "positions[['bid_ex','ask_ex', 'bid']]=0\n",
    "positions['ask']=np.inf\n",
    "positions[['open_price','current_price']]=0\n",
    "\n",
    "\n",
    "coefs={}\n",
    "for ticker in trading_df.coin.values:\n",
    "    coefs[ticker]=[]"
   ]
  },
  {
   "cell_type": "code",
   "execution_count": 8,
   "id": "f0ff78ac",
   "metadata": {
    "collapsed": true
   },
   "outputs": [
    {
     "name": "stdout",
     "output_type": "stream",
     "text": [
      "Empty DataFrame\n",
      "Columns: [coin, coef, bid_ex, ask_ex, spread]\n",
      "Index: []\n",
      "-------------------------\n",
      "Empty DataFrame\n",
      "Columns: [coin, bid_ex, ask_ex, open_price, current_price]\n",
      "Index: []\n"
     ]
    },
    {
     "ename": "CancelledError",
     "evalue": "",
     "output_type": "error",
     "traceback": [
      "\u001b[0;31m---------------------------------------------------------------------------\u001b[0m",
      "\u001b[0;31mCancelledError\u001b[0m                            Traceback (most recent call last)",
      "\u001b[0;32m/tmp/ipykernel_4059/3888245676.py\u001b[0m in \u001b[0;36m<module>\u001b[0;34m\u001b[0m\n\u001b[1;32m     13\u001b[0m         \u001b[0;32mfor\u001b[0m \u001b[0mmarket\u001b[0m \u001b[0;32min\u001b[0m \u001b[0mcoins\u001b[0m\u001b[0;34m[\u001b[0m\u001b[0mticker\u001b[0m\u001b[0;34m]\u001b[0m\u001b[0;34m:\u001b[0m\u001b[0;34m\u001b[0m\u001b[0;34m\u001b[0m\u001b[0m\n\u001b[1;32m     14\u001b[0m             \u001b[0;32mtry\u001b[0m\u001b[0;34m:\u001b[0m\u001b[0;34m\u001b[0m\u001b[0;34m\u001b[0m\u001b[0m\n\u001b[0;32m---> 15\u001b[0;31m                 \u001b[0morderbook\u001b[0m \u001b[0;34m=\u001b[0m \u001b[0;32mawait\u001b[0m \u001b[0mmarket\u001b[0m\u001b[0;34m.\u001b[0m\u001b[0mfetch_order_book\u001b[0m\u001b[0;34m(\u001b[0m\u001b[0mticker\u001b[0m\u001b[0;34m)\u001b[0m\u001b[0;34m\u001b[0m\u001b[0;34m\u001b[0m\u001b[0m\n\u001b[0m\u001b[1;32m     16\u001b[0m             \u001b[0;32mexcept\u001b[0m \u001b[0mException\u001b[0m \u001b[0;32mas\u001b[0m \u001b[0me\u001b[0m\u001b[0;34m:\u001b[0m\u001b[0;34m\u001b[0m\u001b[0;34m\u001b[0m\u001b[0m\n\u001b[1;32m     17\u001b[0m                 \u001b[0;32mcontinue\u001b[0m\u001b[0;34m\u001b[0m\u001b[0;34m\u001b[0m\u001b[0m\n",
      "\u001b[0;32m~/Python/.jupyter_env/lib/python3.8/site-packages/ccxt/async_support/ftx.py\u001b[0m in \u001b[0;36mfetch_order_book\u001b[0;34m(self, symbol, limit, params)\u001b[0m\n\u001b[1;32m    633\u001b[0m         \u001b[0;32mif\u001b[0m \u001b[0mlimit\u001b[0m \u001b[0;32mis\u001b[0m \u001b[0;32mnot\u001b[0m \u001b[0;32mNone\u001b[0m\u001b[0;34m:\u001b[0m\u001b[0;34m\u001b[0m\u001b[0;34m\u001b[0m\u001b[0m\n\u001b[1;32m    634\u001b[0m             \u001b[0mrequest\u001b[0m\u001b[0;34m[\u001b[0m\u001b[0;34m'depth'\u001b[0m\u001b[0;34m]\u001b[0m \u001b[0;34m=\u001b[0m \u001b[0mlimit\u001b[0m  \u001b[0;31m# max 100, default 20\u001b[0m\u001b[0;34m\u001b[0m\u001b[0;34m\u001b[0m\u001b[0m\n\u001b[0;32m--> 635\u001b[0;31m         \u001b[0mresponse\u001b[0m \u001b[0;34m=\u001b[0m \u001b[0;32mawait\u001b[0m \u001b[0mself\u001b[0m\u001b[0;34m.\u001b[0m\u001b[0mpublicGetMarketsMarketNameOrderbook\u001b[0m\u001b[0;34m(\u001b[0m\u001b[0mself\u001b[0m\u001b[0;34m.\u001b[0m\u001b[0mextend\u001b[0m\u001b[0;34m(\u001b[0m\u001b[0mrequest\u001b[0m\u001b[0;34m,\u001b[0m \u001b[0mparams\u001b[0m\u001b[0;34m)\u001b[0m\u001b[0;34m)\u001b[0m\u001b[0;34m\u001b[0m\u001b[0;34m\u001b[0m\u001b[0m\n\u001b[0m\u001b[1;32m    636\u001b[0m         \u001b[0;31m#\u001b[0m\u001b[0;34m\u001b[0m\u001b[0;34m\u001b[0m\u001b[0;34m\u001b[0m\u001b[0m\n\u001b[1;32m    637\u001b[0m         \u001b[0;31m#     {\u001b[0m\u001b[0;34m\u001b[0m\u001b[0;34m\u001b[0m\u001b[0;34m\u001b[0m\u001b[0m\n",
      "\u001b[0;32m~/Python/.jupyter_env/lib/python3.8/site-packages/ccxt/async_support/base/exchange.py\u001b[0m in \u001b[0;36mfetch2\u001b[0;34m(self, path, api, method, params, headers, body, config, context)\u001b[0m\n\u001b[1;32m     92\u001b[0m             \u001b[0mcost\u001b[0m \u001b[0;34m=\u001b[0m \u001b[0mself\u001b[0m\u001b[0;34m.\u001b[0m\u001b[0mcalculate_rate_limiter_cost\u001b[0m\u001b[0;34m(\u001b[0m\u001b[0mapi\u001b[0m\u001b[0;34m,\u001b[0m \u001b[0mmethod\u001b[0m\u001b[0;34m,\u001b[0m \u001b[0mpath\u001b[0m\u001b[0;34m,\u001b[0m \u001b[0mparams\u001b[0m\u001b[0;34m,\u001b[0m \u001b[0mconfig\u001b[0m\u001b[0;34m,\u001b[0m \u001b[0mcontext\u001b[0m\u001b[0;34m)\u001b[0m\u001b[0;34m\u001b[0m\u001b[0;34m\u001b[0m\u001b[0m\n\u001b[1;32m     93\u001b[0m             \u001b[0;31m# insert cost into here...\u001b[0m\u001b[0;34m\u001b[0m\u001b[0;34m\u001b[0m\u001b[0;34m\u001b[0m\u001b[0m\n\u001b[0;32m---> 94\u001b[0;31m             \u001b[0;32mawait\u001b[0m \u001b[0mself\u001b[0m\u001b[0;34m.\u001b[0m\u001b[0mthrottle\u001b[0m\u001b[0;34m(\u001b[0m\u001b[0mcost\u001b[0m\u001b[0;34m)\u001b[0m\u001b[0;34m\u001b[0m\u001b[0;34m\u001b[0m\u001b[0m\n\u001b[0m\u001b[1;32m     95\u001b[0m         \u001b[0mself\u001b[0m\u001b[0;34m.\u001b[0m\u001b[0mlastRestRequestTimestamp\u001b[0m \u001b[0;34m=\u001b[0m \u001b[0mself\u001b[0m\u001b[0;34m.\u001b[0m\u001b[0mmilliseconds\u001b[0m\u001b[0;34m(\u001b[0m\u001b[0;34m)\u001b[0m\u001b[0;34m\u001b[0m\u001b[0;34m\u001b[0m\u001b[0m\n\u001b[1;32m     96\u001b[0m         \u001b[0mrequest\u001b[0m \u001b[0;34m=\u001b[0m \u001b[0mself\u001b[0m\u001b[0;34m.\u001b[0m\u001b[0msign\u001b[0m\u001b[0;34m(\u001b[0m\u001b[0mpath\u001b[0m\u001b[0;34m,\u001b[0m \u001b[0mapi\u001b[0m\u001b[0;34m,\u001b[0m \u001b[0mmethod\u001b[0m\u001b[0;34m,\u001b[0m \u001b[0mparams\u001b[0m\u001b[0;34m,\u001b[0m \u001b[0mheaders\u001b[0m\u001b[0;34m,\u001b[0m \u001b[0mbody\u001b[0m\u001b[0;34m)\u001b[0m\u001b[0;34m\u001b[0m\u001b[0;34m\u001b[0m\u001b[0m\n",
      "\u001b[0;31mCancelledError\u001b[0m: "
     ]
    }
   ],
   "source": [
    "warnings.filterwarnings('ignore')\n",
    "pd.set_option('display.max_rows', 200)\n",
    "while True:\n",
    "    for ticker in trading_df.coin.values:\n",
    "        ##data\n",
    "        part = trading_df.loc[trading_df.coin==ticker]\n",
    "        part.loc[:,['bid','bid_vol','ask_vol', 'spread']] = 0\n",
    "        part.loc[:,'ask']=np.inf\n",
    "        \n",
    "        part2= positions.loc[positions.coin==ticker]\n",
    "        part2.loc[:,['bid','ask']]=[0,np.inf]\n",
    "        \n",
    "        for market in coins[ticker]:\n",
    "            try:\n",
    "                orderbook = await market.fetch_order_book(ticker)\n",
    "            except Exception as e:\n",
    "                continue\n",
    "\n",
    "                \n",
    "            if len(orderbook['bids'])!=0:\n",
    "                if part2.bid_ex.values[0]!=0:\n",
    "                    if market.id in part2.bid_ex.to_list():\n",
    "                        part2.loc[:,'bid'] = calc_price(orderbook['bids'])\n",
    "                    \n",
    "                    if market.id in part2.ask_ex.to_list():\n",
    "                        part2.loc[:,'ask'] = calc_price(orderbook['asks'])\n",
    "                        \n",
    "                if calc_price(orderbook['bids']) > part.bid.values[0]:\n",
    "                    part.loc[:,['bid', 'bid_vol']] = np.array([float(calc_price(orderbook['bids'])),\n",
    "                                                               float(orderbook['bids'][0][1])]).astype(float)\n",
    "                    part.loc[:,'bid_ex'] = market.id\n",
    "\n",
    "                if calc_price(orderbook['asks']) < part.ask.values[0]:\n",
    "                    part.loc[:,['ask', 'ask_vol']] = np.array([calc_price(orderbook['asks']),\n",
    "                                                               orderbook['asks'][0][1]]).astype(float)\n",
    "                    part.loc[:,'ask_ex'] = market.id\n",
    "                if market.id in part.bid_ex.values or market.id in part.ask_ex.values:\n",
    "                    spread = calc_spread(orderbook)\n",
    "                    if spread > part.spread.values[0]:\n",
    "                        part.loc[:, 'spread'] = spread\n",
    "                 \n",
    "        part.loc[:,'coef'] = round((part.bid.values[0]/part.ask.values[0]-1)*100, 2) \n",
    "        coefs[ticker].append(part['coef'].values[0])\n",
    "        current_price = round((part2.ask.values[0]/part2.bid.values[0]-1)*100, 2)\n",
    "        part2.loc[:,'current_price'] = current_price\n",
    "        ##trades\n",
    "        ##open\n",
    "        if part.coef.values[0]>1.5 and part2.bid_ex.values[0]==0:\n",
    "            vol = 100\n",
    "            \n",
    "            part2.loc[:, ['bid_ex','ask_ex','bid', 'ask','open_price','current_price']] = \\\n",
    "            [part.ask_ex.values[0], part.bid_ex.values[0], 0, np.inf, part.coef.values[0],0]\n",
    "            \n",
    "            total_vol.loc[total_vol.coin==ticker, part.bid_ex.values[0]] += vol*2\n",
    "            total_vol.loc[total_vol.coin==ticker, part.ask_ex.values[0]] += vol*2\n",
    "        ##close\n",
    "        if current_price <0.3 and \\\n",
    "        part2.bid_ex.values[0]!=0:\n",
    "            \n",
    "            fin_result[ticker]+=vol * (part2.open_price.values[0]-0.8-current_price)/100\n",
    "            part2.loc[:,['bid_ex','ask_ex','bid','ask']]=0\n",
    "            \n",
    "        trading_df.loc[trading_df.index==part.index.values[0]] = part.values\n",
    "        positions.loc[positions.index==part2.index.values[0]] = part2.values\n",
    "        time.sleep(1)\n",
    "    clear_output(wait=True)\n",
    "    print(trading_df.loc[trading_df.coef>0.5,['coin','coef','bid_ex','ask_ex','spread']])\n",
    "    print('-------------------------')\n",
    "    print(positions.loc[(positions.bid_ex!=0) | (positions.open_price!=0), \\\n",
    "                       ['coin','bid_ex','ask_ex','open_price','current_price']])\n",
    "    "
   ]
  },
  {
   "cell_type": "code",
   "execution_count": null,
   "id": "6407b304",
   "metadata": {},
   "outputs": [],
   "source": [
    "for i in fin_result:\n",
    "    if fin_result[i]!=0:\n",
    "        print(i,':', fin_result[i])\n",
    "print('Total income: ',sum(fin_result.values()))"
   ]
  },
  {
   "cell_type": "code",
   "execution_count": null,
   "id": "8f5b516a",
   "metadata": {},
   "outputs": [],
   "source": [
    "uf=[]\n",
    "for i in coefs:\n",
    "    for a in coefs[i]:\n",
    "        if a>1:\n",
    "            print(i)\n",
    "            uf.append(i)\n",
    "            break"
   ]
  },
  {
   "cell_type": "code",
   "execution_count": null,
   "id": "ab9637f2",
   "metadata": {},
   "outputs": [],
   "source": [
    "#clear coefs\n",
    "for i in coefs:\n",
    "    for a in coefs[i]:\n",
    "        if a<-5:\n",
    "            coefs[i].pop(coefs[i].index(a))"
   ]
  },
  {
   "cell_type": "code",
   "execution_count": null,
   "id": "a37f0861",
   "metadata": {},
   "outputs": [],
   "source": [
    "plt.figure(figsize=(20,10))\n",
    "for i in uf:\n",
    "    plt.plot(coefs[i], label=i)\n",
    "    plt.legend(loc = 2)"
   ]
  },
  {
   "cell_type": "code",
   "execution_count": null,
   "id": "871f26ca",
   "metadata": {},
   "outputs": [],
   "source": [
    "for i in uf:\n",
    "    plt.figure(figsize=(20,4))\n",
    "    plt.plot(coefs[i])\n",
    "    plt.title(i)\n",
    "    plt.grid()\n",
    "    plt.show()"
   ]
  },
  {
   "cell_type": "code",
   "execution_count": null,
   "id": "5a3d606f",
   "metadata": {},
   "outputs": [],
   "source": [
    "for i in coefs:\n",
    "    plt.plot(coefs[i])"
   ]
  },
  {
   "cell_type": "code",
   "execution_count": null,
   "id": "3b0068da",
   "metadata": {},
   "outputs": [],
   "source": [
    "for i in coefs:\n",
    "    if len(coefs[i])>5500:\n",
    "        print(i)"
   ]
  },
  {
   "cell_type": "code",
   "execution_count": null,
   "id": "7220396e",
   "metadata": {},
   "outputs": [],
   "source": [
    "for i in total_vol.drop('coin',axis=1).columns:\n",
    "    print (i,':', np.sum(total_vol.drop(total_vol.loc[(total_vol.coin == 'ETC/USDT')|(total_vol.coin =='XTZ/USDT')].index)[i]))"
   ]
  },
  {
   "cell_type": "code",
   "execution_count": 7,
   "id": "a49aea77",
   "metadata": {},
   "outputs": [],
   "source": [
    "# save coefs\n",
    "json1 = json.dumps(coefs)\n",
    "with open(\"coefs.json\",\"w\") as f:\n",
    "    f.write(json1)\n",
    "    f.close()"
   ]
  },
  {
   "cell_type": "code",
   "execution_count": null,
   "id": "d643053b",
   "metadata": {},
   "outputs": [],
   "source": []
  }
 ],
 "metadata": {
  "kernelspec": {
   "display_name": "Python 3 (ipykernel)",
   "language": "python",
   "name": "python3"
  },
  "language_info": {
   "codemirror_mode": {
    "name": "ipython",
    "version": 3
   },
   "file_extension": ".py",
   "mimetype": "text/x-python",
   "name": "python",
   "nbconvert_exporter": "python",
   "pygments_lexer": "ipython3",
   "version": "3.8.10"
  }
 },
 "nbformat": 4,
 "nbformat_minor": 5
}
